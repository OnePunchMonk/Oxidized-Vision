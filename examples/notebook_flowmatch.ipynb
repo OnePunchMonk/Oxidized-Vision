{
 "cells": [
  {
   "cell_type": "markdown",
   "id": "272882f3",
   "metadata": {},
   "source": [
    "# FlowMatchNet with OxidizedVision\n",
    "\n",
    "This notebook demonstrates the end-to-end process of converting a FlowMatchNet model using OxidizedVision, and then running it in Rust."
   ]
  },
  {
   "cell_type": "markdown",
   "id": "c11224df",
   "metadata": {},
   "source": [
    "## 1. Setup\n",
    "\n",
    "First, let's install the necessary libraries."
   ]
  },
  {
   "cell_type": "code",
   "execution_count": null,
   "id": "9950786f",
   "metadata": {},
   "outputs": [],
   "source": [
    "!pip install torch torchvision torchaudio\n",
    "!pip install -e ../python_client"
   ]
  },
  {
   "cell_type": "markdown",
   "id": "b12b680d",
   "metadata": {},
   "source": [
    "## 2. Define and Train a (dummy) FlowMatchNet model\n",
    "\n",
    "For this example, we'll use a simplified version of a FlowMatch-like model. In a real-world scenario, you would have your own pre-trained model."
   ]
  },
  {
   "cell_type": "code",
   "execution_count": null,
   "id": "65865afb",
   "metadata": {},
   "outputs": [],
   "source": [
    "import torch\n",
    "import torch.nn as nn\n",
    "import os\n",
    "\n",
    "class FlowMatchNet(nn.Module):\n",
    "    def __init__(self):\n",
    "        super(FlowMatchNet, self).__init__()\n",
    "        self.feature_extractor = nn.Sequential(\n",
    "            nn.Conv2d(3, 16, 3, padding=1),\n",
    "            nn.ReLU(),\n",
    "            nn.Conv2d(16, 32, 3, padding=1),\n",
    "        )\n",
    "        self.flow_head = nn.Conv2d(32, 2, 1) # Output 2 channels for flow (x, y)\n",
    "\n",
    "    def forward(self, x):\n",
    "        features = self.feature_extractor(x)\n",
    "        return self.flow_head(features)\n",
    "\n",
    "# Save the model definition to a file\n",
    "model_code = '''\n",
    "import torch\n",
    "import torch.nn as nn\n",
    "\n",
    "class FlowMatchNet(nn.Module):\n",
    "    def __init__(self):\n",
    "        super(FlowMatchNet, self).__init__()\n",
    "        self.feature_extractor = nn.Sequential(\n",
    "            nn.Conv2d(3, 16, 3, padding=1),\n",
    "            nn.ReLU(),\n",
    "            nn.Conv2d(16, 32, 3, padding=1),\n",
    "        )\n",
    "        self.flow_head = nn.Conv2d(32, 2, 1)\n",
    "\n",
    "    def forward(self, x):\n",
    "        features = self.feature_extractor(x)\n",
    "        return self.flow_head(features)\n",
    "'''\n",
    "os.makedirs('flowmatch_model', exist_ok=True)\n",
    "with open('flowmatch_model/model.py', 'w') as f:\n",
    "    f.write(model_code)\n",
    "\n",
    "# Instantiate and save a checkpoint\n",
    "model = FlowMatchNet()\n",
    "os.makedirs('checkpoints', exist_ok=True)\n",
    "torch.save(model.state_dict(), 'checkpoints/flowmatch_ckpt.pt')\n",
    "\n",
    "print('FlowMatchNet model and checkpoint saved.')"
   ]
  },
  {
   "cell_type": "markdown",
   "id": "54bce6ce",
   "metadata": {},
   "source": [
    "## 3. Create a Configuration File\n",
    "\n",
    "Now, we'll create a `config.yml` file to tell OxidizedVision how to convert our model."
   ]
  },
  {
   "cell_type": "code",
   "execution_count": null,
   "id": "d913e7db",
   "metadata": {},
   "outputs": [],
   "source": [
    "import yaml\n",
    "\n",
    "config = {\n",
    "    'model': {\n",
    "        'path': 'flowmatch_model/model.py',\n",
    "        'class_name': 'FlowMatchNet',\n",
    "        'input_shape': [1, 3, 128, 128],\n",
    "        'checkpoint': 'checkpoints/flowmatch_ckpt.pt'\n",
    "    },\n",
    "    'export': {\n",
    "        'opset_version': 14,\n",
    "        'do_constant_folding': True\n",
    "    }\n",
    "}\n",
    "\n",
    "with open('flowmatch_config.yml', 'w') as f:\n",
    "    yaml.dump(config, f)\n",
    "\n",
    "print('Configuration file 'flowmatch_config.yml' created.')"
   ]
  },
  {
   "cell_type": "markdown",
   "id": "ee0b4710",
   "metadata": {},
   "source": [
    "## 4. Run the Conversion\n",
    "\n",
    "With the model and config ready, we can now use the `oxidizedvision` CLI to perform the conversion."
   ]
  },
  {
   "cell_type": "code",
   "execution_count": null,
   "id": "09c68c4e",
   "metadata": {},
   "outputs": [],
   "source": [
    "!oxidizedvision convert --config flowmatch_config.yml"
   ]
  },
  {
   "cell_type": "markdown",
   "id": "25d622ed",
   "metadata": {},
   "source": [
    "## 5. Package the Model into a Rust Crate\n",
    "\n",
    "Next, we'll package the converted ONNX model into a self-contained Rust crate using the `tract` runtime."
   ]
  },
  {
   "cell_type": "code",
   "execution_count": null,
   "id": "6b776829",
   "metadata": {},
   "outputs": [],
   "source": [
    "!oxidizedvision package --onnx out/model.onnx --runner tract --out ../rust_runtime/packaged/flowmatch_tract"
   ]
  },
  {
   "cell_type": "markdown",
   "id": "58c2c3c2",
   "metadata": {},
   "source": [
    "## 6. Build and Run in Rust\n",
    "\n",
    "Finally, we can navigate to the newly created Rust crate, build it, and run it.\n",
    "\n",
    "You can do this from your terminal:"
   ]
  },
  {
   "cell_type": "code",
   "execution_count": null,
   "id": "3ff28db9",
   "metadata": {},
   "outputs": [],
   "source": [
    "print('To build and run, execute the following in your terminal:')\n",
    "print('cd ../rust_runtime/packaged/flowmatch_tract')\n",
    "print('cargo build --release')\n",
    "# This is just an example name, you would create a binary to run.\n",
    "print('./target/release/your_binary_name')"
   ]
  }
 ],
 "metadata": {
  "language_info": {
   "name": "python"
  }
 },
 "nbformat": 4,
 "nbformat_minor": 5
}
